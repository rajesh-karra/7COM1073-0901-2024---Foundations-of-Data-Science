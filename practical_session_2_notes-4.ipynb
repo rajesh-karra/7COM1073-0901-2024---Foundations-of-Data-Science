{
 "cells": [
  {
   "cell_type": "code",
   "execution_count": 10,
   "metadata": {},
   "outputs": [
    {
     "name": "stdout",
     "output_type": "stream",
     "text": [
      "M+N =  [[  3  -1]\n",
      " [ 13 -14]]\n",
      "M*N = [[  2 -12]\n",
      " [ 40  48]]\n",
      "M@N = [[ 26 -26]\n",
      " [-59  28]]\n",
      "M.dot(N) = [[ 26 -26]\n",
      " [-59  28]]\n",
      "The transpose of M is:  [[ 2  5]\n",
      " [ 3 -8]]\n"
     ]
    }
   ],
   "source": [
    "import numpy as np\n",
    "\n",
    "M = np.array(\n",
    "    [\n",
    "        [2,3], \n",
    "        [5, -8]\n",
    "    ]\n",
    ")\n",
    "N = np.array(\n",
    "    [\n",
    "        [1, -4],\n",
    "        [8, -6]\n",
    "    ]\n",
    ")\n",
    "\n",
    "print('M+N = ', M+N)\n",
    "print('M*N =', M*N)\n",
    "print('M@N =', M@N)\n",
    "print('M.dot(N) =', M.dot(N))\n",
    "print('The transpose of M is: ', np.transpose(M))"
   ]
  },
  {
   "cell_type": "markdown",
   "metadata": {},
   "source": [
    "# 3.2 Numpy.linalg\n",
    "\n",
    "2\n",
    "© 2019, 2022 University of Hertfordshire Higher Education Corporation\n",
    "numpy.linalg is a class having a standard set of things like inverse, determinant\n",
    "and matrix decompositions, You need to import numpy.linalg first:\n",
    "Task1:\n",
    "1) compute the inverse of the matrix M defined in 3.1 using LA.inv(𝑀).\n",
    "2) compute the determinant of matrix N defined in 3.1 using LA.det(𝑀)"
   ]
  },
  {
   "cell_type": "code",
   "execution_count": 2,
   "metadata": {},
   "outputs": [
    {
     "name": "stdout",
     "output_type": "stream",
     "text": [
      "[[ 0.25806452  0.09677419]\n",
      " [ 0.16129032 -0.06451613]]\n",
      "-31.0\n"
     ]
    }
   ],
   "source": [
    "import numpy as np\n",
    "import numpy.linalg as LA\n",
    "M = np.array(\n",
    "    [\n",
    "        [2, 3], \n",
    "        [5, -8]\n",
    "    ]\n",
    ")\n",
    "\n",
    "\n",
    "inverse_M = LA.inv(M)\n",
    "print(inverse_M)\n",
    "\n",
    "det_M = LA.det(M)\n",
    "print(det_M)"
   ]
  },
  {
   "cell_type": "code",
   "execution_count": 17,
   "metadata": {},
   "outputs": [
    {
     "name": "stdout",
     "output_type": "stream",
     "text": [
      "[[3 1 2]\n",
      " [1 4 0]\n",
      " [2 0 5]]\n",
      "\n",
      "eignVal \n",
      " & eignVec \n",
      " =  [1.47108204 6.36146877 4.16744919] [[ 0.8226726  -0.54739786 -0.15351016]\n",
      " [-0.32530617 -0.23180398 -0.91675668]\n",
      " [-0.46624638 -0.80412841  0.36877068]]\n",
      "\n",
      "dot of M=  [-2.91178129 -5.77370273 -4.26449136]\n"
     ]
    }
   ],
   "source": [
    "import numpy as np\n",
    "import numpy.linalg as LA\n",
    "\n",
    "A = np.array(\n",
    "    [\n",
    "        [3, 1, 2],\n",
    "        [1, 4, 0],\n",
    "        [2, 0, 5]\n",
    "    ]\n",
    ")\n",
    "print(A)\n",
    "print()\n",
    "eignVal,eignVec = LA.eig(A)\n",
    "print('eignVal \\n & eignVec \\n = ', eignVal,eignVec)\n",
    "\n",
    "\n",
    "\n",
    "dot_M = np.dot(eignVec, eignVal.T)\n",
    "print()\n",
    "print('dot of M= ', dot_M)"
   ]
  },
  {
   "cell_type": "code",
   "execution_count": 18,
   "metadata": {},
   "outputs": [
    {
     "data": {
      "text/plain": [
       "array([10,  9, -1,  3])"
      ]
     },
     "execution_count": 18,
     "metadata": {},
     "output_type": "execute_result"
    }
   ],
   "source": [
    "x4 = np.array(\n",
    "    [10, 9, -1, 3]\n",
    ")\n",
    "\n",
    "x4"
   ]
  },
  {
   "cell_type": "code",
   "execution_count": 19,
   "metadata": {},
   "outputs": [
    {
     "data": {
      "text/plain": [
       "array([-1,  3,  9, 10])"
      ]
     },
     "execution_count": 19,
     "metadata": {},
     "output_type": "execute_result"
    }
   ],
   "source": [
    "np.sort(x4)"
   ]
  },
  {
   "cell_type": "code",
   "execution_count": 20,
   "metadata": {},
   "outputs": [
    {
     "data": {
      "text/plain": [
       "array([10,  9,  3, -1])"
      ]
     },
     "execution_count": 20,
     "metadata": {},
     "output_type": "execute_result"
    }
   ],
   "source": [
    "np.sort(x4) [::-1]"
   ]
  },
  {
   "cell_type": "code",
   "execution_count": null,
   "metadata": {},
   "outputs": [],
   "source": []
  }
 ],
 "metadata": {
  "kernelspec": {
   "display_name": "Python 3",
   "language": "python",
   "name": "python3"
  },
  "language_info": {
   "codemirror_mode": {
    "name": "ipython",
    "version": 3
   },
   "file_extension": ".py",
   "mimetype": "text/x-python",
   "name": "python",
   "nbconvert_exporter": "python",
   "pygments_lexer": "ipython3",
   "version": "3.12.1"
  }
 },
 "nbformat": 4,
 "nbformat_minor": 2
}
