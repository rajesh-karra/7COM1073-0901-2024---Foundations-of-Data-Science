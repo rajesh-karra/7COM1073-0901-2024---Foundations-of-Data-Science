{
 "cells": [
  {
   "cell_type": "code",
   "execution_count": null,
   "metadata": {},
   "outputs": [
    {
     "name": "stdout",
     "output_type": "stream",
     "text": [
      "{1, 2, 3, 4, 5, 6, 7, 8, 9}\n"
     ]
    }
   ],
   "source": [
    "from sympy import FiniteSet\n",
    "set1 = FiniteSet(1, 2, 3, 4, 5, 6, 7, 8, 9)\n",
    "print(set1)"
   ]
  },
  {
   "cell_type": "code",
   "execution_count": 7,
   "metadata": {},
   "outputs": [
    {
     "name": "stdout",
     "output_type": "stream",
     "text": [
      "{0.4, 10.6, 4}\n",
      "{}\n"
     ]
    }
   ],
   "source": [
    "s1 = {2/5, 4, 10.6}\n",
    "s2 = {}\n",
    "\n",
    "print(s1)\n",
    "print(s2)"
   ]
  },
  {
   "cell_type": "code",
   "execution_count": 14,
   "metadata": {},
   "outputs": [
    {
     "data": {
      "text/latex": [
       "$\\displaystyle \\left\\{\\frac{2}{5}, 4, 10.6\\right\\}$"
      ],
      "text/plain": [
       "{2/5, 4, 10.6}"
      ]
     },
     "execution_count": 14,
     "metadata": {},
     "output_type": "execute_result"
    }
   ],
   "source": [
    "from fractions import Fraction\n",
    "s1 = FiniteSet (Fraction (2, 5), 4, 10.6)\n",
    "s1"
   ]
  },
  {
   "cell_type": "code",
   "execution_count": 15,
   "metadata": {},
   "outputs": [
    {
     "data": {
      "text/latex": [
       "$\\displaystyle \\emptyset$"
      ],
      "text/plain": [
       "EmptySet"
      ]
     },
     "execution_count": 15,
     "metadata": {},
     "output_type": "execute_result"
    }
   ],
   "source": [
    "s2 = FiniteSet ()\n",
    "s2"
   ]
  },
  {
   "cell_type": "code",
   "execution_count": 16,
   "metadata": {},
   "outputs": [
    {
     "data": {
      "text/plain": [
       "0"
      ]
     },
     "execution_count": 16,
     "metadata": {},
     "output_type": "execute_result"
    }
   ],
   "source": [
    "len(s2)"
   ]
  },
  {
   "cell_type": "code",
   "execution_count": 11,
   "metadata": {},
   "outputs": [
    {
     "name": "stdout",
     "output_type": "stream",
     "text": [
      "3\n",
      "0\n"
     ]
    }
   ],
   "source": [
    "cardinality_of_s1 = len(s1)\n",
    "cardinality_of_s2 = len(s2)\n",
    "\n",
    "print(cardinality_of_s1)\n",
    "print(cardinality_of_s2)"
   ]
  },
  {
   "cell_type": "code",
   "execution_count": 12,
   "metadata": {},
   "outputs": [
    {
     "data": {
      "text/latex": [
       "$\\displaystyle \\left\\{0, 2, 4, 6\\right\\}$"
      ],
      "text/plain": [
       "{0, 2, 4, 6}"
      ]
     },
     "execution_count": 12,
     "metadata": {},
     "output_type": "execute_result"
    }
   ],
   "source": [
    "'''create sets from lists'''\n",
    "L = [0, 2, 4, 6]\n",
    "set2 = FiniteSet(*L)\n",
    "set2"
   ]
  },
  {
   "cell_type": "code",
   "execution_count": 13,
   "metadata": {},
   "outputs": [
    {
     "data": {
      "text/latex": [
       "$\\displaystyle \\left\\{0, 2, 4, 6\\right\\}$"
      ],
      "text/plain": [
       "{0, 2, 4, 6}"
      ]
     },
     "execution_count": 13,
     "metadata": {},
     "output_type": "execute_result"
    }
   ],
   "source": [
    "L = [0, 2, 4, 6, 2]\n",
    "set3 = FiniteSet(*L)\n",
    "set3"
   ]
  },
  {
   "cell_type": "code",
   "execution_count": 17,
   "metadata": {},
   "outputs": [
    {
     "data": {
      "text/plain": [
       "True"
      ]
     },
     "execution_count": 17,
     "metadata": {},
     "output_type": "execute_result"
    }
   ],
   "source": [
    "4 in set1"
   ]
  },
  {
   "cell_type": "code",
   "execution_count": 18,
   "metadata": {},
   "outputs": [
    {
     "data": {
      "text/plain": [
       "False"
      ]
     },
     "execution_count": 18,
     "metadata": {},
     "output_type": "execute_result"
    }
   ],
   "source": [
    "-1 in s1"
   ]
  },
  {
   "cell_type": "code",
   "execution_count": 19,
   "metadata": {},
   "outputs": [
    {
     "data": {
      "text/plain": [
       "True"
      ]
     },
     "execution_count": 19,
     "metadata": {},
     "output_type": "execute_result"
    }
   ],
   "source": [
    "4 in s1"
   ]
  },
  {
   "cell_type": "code",
   "execution_count": 20,
   "metadata": {},
   "outputs": [
    {
     "data": {
      "text/latex": [
       "$\\displaystyle \\left\\{\\frac{2}{5}, 4, 10.6\\right\\}$"
      ],
      "text/plain": [
       "{2/5, 4, 10.6}"
      ]
     },
     "execution_count": 20,
     "metadata": {},
     "output_type": "execute_result"
    }
   ],
   "source": [
    "s1"
   ]
  },
  {
   "cell_type": "code",
   "execution_count": 22,
   "metadata": {},
   "outputs": [
    {
     "data": {
      "text/plain": [
       "True"
      ]
     },
     "execution_count": 22,
     "metadata": {},
     "output_type": "execute_result"
    }
   ],
   "source": [
    "set4 = FiniteSet(2, 3, 7)\n",
    "set5 = FiniteSet(3, 2, 7)\n",
    "set4 == set5"
   ]
  },
  {
   "cell_type": "code",
   "execution_count": 23,
   "metadata": {},
   "outputs": [
    {
     "data": {
      "text/plain": [
       "True"
      ]
     },
     "execution_count": 23,
     "metadata": {},
     "output_type": "execute_result"
    }
   ],
   "source": [
    "s = FiniteSet(2)\n",
    "s.is_subset(set4)"
   ]
  },
  {
   "cell_type": "code",
   "execution_count": 24,
   "metadata": {},
   "outputs": [
    {
     "data": {
      "text/plain": [
       "True"
      ]
     },
     "execution_count": 24,
     "metadata": {},
     "output_type": "execute_result"
    }
   ],
   "source": [
    "s.is_proper_subset(set4)"
   ]
  },
  {
   "cell_type": "code",
   "execution_count": 26,
   "metadata": {},
   "outputs": [
    {
     "data": {
      "text/plain": [
       "False"
      ]
     },
     "execution_count": 26,
     "metadata": {},
     "output_type": "execute_result"
    }
   ],
   "source": [
    "s1.is_proper_subset(s2)"
   ]
  },
  {
   "cell_type": "code",
   "execution_count": 27,
   "metadata": {},
   "outputs": [
    {
     "data": {
      "text/plain": [
       "True"
      ]
     },
     "execution_count": 27,
     "metadata": {},
     "output_type": "execute_result"
    }
   ],
   "source": [
    "s2.is_proper_subset(s1)"
   ]
  },
  {
   "cell_type": "code",
   "execution_count": 29,
   "metadata": {},
   "outputs": [
    {
     "name": "stdout",
     "output_type": "stream",
     "text": [
      "{2/5, 4, 10.6}\n",
      "EmptySet\n"
     ]
    }
   ],
   "source": [
    "print(s1)\n",
    "print(s2)"
   ]
  },
  {
   "cell_type": "code",
   "execution_count": 30,
   "metadata": {},
   "outputs": [
    {
     "data": {
      "text/plain": [
       "3"
      ]
     },
     "execution_count": 30,
     "metadata": {},
     "output_type": "execute_result"
    }
   ],
   "source": [
    "len(s1)"
   ]
  },
  {
   "cell_type": "code",
   "execution_count": 31,
   "metadata": {},
   "outputs": [
    {
     "data": {
      "text/latex": [
       "$\\displaystyle \\left\\{\\emptyset, \\left\\{\\frac{2}{5}\\right\\}, \\left\\{4\\right\\}, \\left\\{10.6\\right\\}, \\left\\{\\frac{2}{5}, 4\\right\\}, \\left\\{\\frac{2}{5}, 10.6\\right\\}, \\left\\{4, 10.6\\right\\}, \\left\\{\\frac{2}{5}, 4, 10.6\\right\\}\\right\\}$"
      ],
      "text/plain": [
       "FiniteSet(EmptySet, {2/5}, {4}, {10.6}, {2/5, 4}, {2/5, 10.6}, {4, 10.6}, {2/5, 4, 10.6})"
      ]
     },
     "execution_count": 31,
     "metadata": {},
     "output_type": "execute_result"
    }
   ],
   "source": [
    "s1.powerset()"
   ]
  },
  {
   "cell_type": "code",
   "execution_count": 32,
   "metadata": {},
   "outputs": [
    {
     "data": {
      "text/latex": [
       "$\\displaystyle \\left\\{\\emptyset\\right\\}$"
      ],
      "text/plain": [
       "{EmptySet}"
      ]
     },
     "execution_count": 32,
     "metadata": {},
     "output_type": "execute_result"
    }
   ],
   "source": [
    "s2.powerset()"
   ]
  },
  {
   "cell_type": "markdown",
   "metadata": {},
   "source": [
    "# Set Operations"
   ]
  },
  {
   "cell_type": "code",
   "execution_count": 33,
   "metadata": {},
   "outputs": [
    {
     "data": {
      "text/plain": [
       "{0, 2, 3, 4, 6, 7}"
      ]
     },
     "execution_count": 33,
     "metadata": {},
     "output_type": "execute_result"
    }
   ],
   "source": [
    "set2 = {0, 2, 4, 6}\n",
    "set4 = {2, 3, 7}\n",
    "set2.union(set4)"
   ]
  },
  {
   "cell_type": "code",
   "execution_count": 36,
   "metadata": {},
   "outputs": [
    {
     "data": {
      "text/latex": [
       "$\\displaystyle \\left\\{0, 2, 3, 4, 6, 7\\right\\}$"
      ],
      "text/plain": [
       "{0, 2, 3, 4, 6, 7}"
      ]
     },
     "execution_count": 36,
     "metadata": {},
     "output_type": "execute_result"
    }
   ],
   "source": [
    "set2 = FiniteSet(0, 2, 4, 6)\n",
    "set4 = FiniteSet(2, 3, 7)\n",
    "set2.union(set4)"
   ]
  },
  {
   "cell_type": "code",
   "execution_count": 37,
   "metadata": {},
   "outputs": [
    {
     "data": {
      "text/latex": [
       "$\\displaystyle \\left\\{2\\right\\}$"
      ],
      "text/plain": [
       "{2}"
      ]
     },
     "execution_count": 37,
     "metadata": {},
     "output_type": "execute_result"
    }
   ],
   "source": [
    "from sympy import *\n",
    "set2.intersect(set4)"
   ]
  },
  {
   "cell_type": "code",
   "execution_count": 38,
   "metadata": {},
   "outputs": [
    {
     "data": {
      "text/latex": [
       "$\\displaystyle \\left\\{2, 4, 6\\right\\}$"
      ],
      "text/plain": [
       "{2, 4, 6}"
      ]
     },
     "execution_count": 38,
     "metadata": {},
     "output_type": "execute_result"
    }
   ],
   "source": [
    "set2.intersect(set1)"
   ]
  },
  {
   "cell_type": "code",
   "execution_count": 40,
   "metadata": {},
   "outputs": [
    {
     "data": {
      "text/latex": [
       "$\\displaystyle \\left\\{0, 2, 4, 6\\right\\}$"
      ],
      "text/plain": [
       "{0, 2, 4, 6}"
      ]
     },
     "execution_count": 40,
     "metadata": {},
     "output_type": "execute_result"
    }
   ],
   "source": [
    "set3.intersect(set2)"
   ]
  },
  {
   "cell_type": "code",
   "execution_count": 41,
   "metadata": {},
   "outputs": [
    {
     "data": {
      "text/latex": [
       "$\\displaystyle \\left\\{0, 1, 2, 3, 4, 5, 6, 7, 8, 9\\right\\}$"
      ],
      "text/plain": [
       "{0, 1, 2, 3, 4, 5, 6, 7, 8, 9}"
      ]
     },
     "execution_count": 41,
     "metadata": {},
     "output_type": "execute_result"
    }
   ],
   "source": [
    "set2.union(set1)"
   ]
  },
  {
   "cell_type": "code",
   "execution_count": 42,
   "metadata": {},
   "outputs": [
    {
     "data": {
      "text/latex": [
       "$\\displaystyle \\left\\{2\\right\\}$"
      ],
      "text/plain": [
       "{2}"
      ]
     },
     "execution_count": 42,
     "metadata": {},
     "output_type": "execute_result"
    }
   ],
   "source": [
    "set2.intersect(set4).intersect(set1)"
   ]
  },
  {
   "cell_type": "markdown",
   "metadata": {},
   "source": [
    "# Cartesian Product"
   ]
  },
  {
   "cell_type": "code",
   "execution_count": 46,
   "metadata": {},
   "outputs": [
    {
     "data": {
      "text/latex": [
       "$\\displaystyle \\left\\{2, 3, 7\\right\\} \\times \\left\\{1, 3, 5\\right\\}$"
      ],
      "text/plain": [
       "ProductSet({2, 3, 7}, {1, 3, 5})"
      ]
     },
     "execution_count": 46,
     "metadata": {},
     "output_type": "execute_result"
    }
   ],
   "source": [
    "'''Cartesian Product'''\n",
    "set4 = FiniteSet(2, 3, 7)\n",
    "set6 = FiniteSet(1, 3, 5)\n",
    "\n",
    "M = set4*set6\n",
    "M"
   ]
  },
  {
   "cell_type": "code",
   "execution_count": 47,
   "metadata": {},
   "outputs": [
    {
     "name": "stdout",
     "output_type": "stream",
     "text": [
      "(2, 1)\n",
      "(3, 1)\n",
      "(2, 3)\n",
      "(7, 1)\n",
      "(3, 3)\n",
      "(2, 5)\n",
      "(7, 3)\n",
      "(3, 5)\n",
      "(7, 5)\n"
     ]
    }
   ],
   "source": [
    "for elem in M:\n",
    "    print(elem)"
   ]
  },
  {
   "cell_type": "markdown",
   "metadata": {},
   "source": [
    "# Task 6"
   ]
  },
  {
   "cell_type": "code",
   "execution_count": 56,
   "metadata": {},
   "outputs": [
    {
     "name": "stdout",
     "output_type": "stream",
     "text": [
      "a union b is :  {1, 2, 3, 10, 21, 99}\n",
      "a intersect b is :  {1, 10}\n",
      "Cartesian product of a & b is :  ProductSet({1, 2, 10, 99}, {1, 3, 10, 21})\n"
     ]
    }
   ],
   "source": [
    "a = FiniteSet(1, 2, 10, 99)\n",
    "b = FiniteSet(3, 10, 21, 1)\n",
    "\n",
    "print('a union b is : ', a.union(b))\n",
    "print('a intersect b is : ', a.intersect(b))\n",
    "print('Cartesian product of a & b is : ', a*b)"
   ]
  },
  {
   "cell_type": "markdown",
   "metadata": {},
   "source": [
    "# Numpy Functions"
   ]
  },
  {
   "cell_type": "code",
   "execution_count": 58,
   "metadata": {},
   "outputs": [
    {
     "data": {
      "text/plain": [
       "array([ 0.        ,  0.12693304,  0.25386607,  0.38079911,  0.50773215,\n",
       "        0.63466518,  0.76159822,  0.88853126,  1.01546429,  1.14239733,\n",
       "        1.26933037,  1.3962634 ,  1.52319644,  1.65012947,  1.77706251,\n",
       "        1.90399555,  2.03092858,  2.15786162,  2.28479466,  2.41172769,\n",
       "        2.53866073,  2.66559377,  2.7925268 ,  2.91945984,  3.04639288,\n",
       "        3.17332591,  3.30025895,  3.42719199,  3.55412502,  3.68105806,\n",
       "        3.8079911 ,  3.93492413,  4.06185717,  4.1887902 ,  4.31572324,\n",
       "        4.44265628,  4.56958931,  4.69652235,  4.82345539,  4.95038842,\n",
       "        5.07732146,  5.2042545 ,  5.33118753,  5.45812057,  5.58505361,\n",
       "        5.71198664,  5.83891968,  5.96585272,  6.09278575,  6.21971879,\n",
       "        6.34665183,  6.47358486,  6.6005179 ,  6.72745093,  6.85438397,\n",
       "        6.98131701,  7.10825004,  7.23518308,  7.36211612,  7.48904915,\n",
       "        7.61598219,  7.74291523,  7.86984826,  7.9967813 ,  8.12371434,\n",
       "        8.25064737,  8.37758041,  8.50451345,  8.63144648,  8.75837952,\n",
       "        8.88531256,  9.01224559,  9.13917863,  9.26611167,  9.3930447 ,\n",
       "        9.51997774,  9.64691077,  9.77384381,  9.90077685, 10.02770988,\n",
       "       10.15464292, 10.28157596, 10.40850899, 10.53544203, 10.66237507,\n",
       "       10.7893081 , 10.91624114, 11.04317418, 11.17010721, 11.29704025,\n",
       "       11.42397329, 11.55090632, 11.67783936, 11.8047724 , 11.93170543,\n",
       "       12.05863847, 12.1855715 , 12.31250454, 12.43943758, 12.56637061])"
      ]
     },
     "execution_count": 58,
     "metadata": {},
     "output_type": "execute_result"
    }
   ],
   "source": [
    "import numpy as np\n",
    "theta = np.linspace(0, 4*np.pi, 100)\n",
    "theta"
   ]
  },
  {
   "cell_type": "code",
   "execution_count": 65,
   "metadata": {},
   "outputs": [
    {
     "name": "stdout",
     "output_type": "stream",
     "text": [
      "100 angles using np.sin() :  -0.5063656411097588\n",
      "100 angles using np.cos() :  0.8623188722876839\n",
      "100 angles using np.tan() :  -0.5872139151569291\n"
     ]
    }
   ],
   "source": [
    "numPySin = np.sin(100)\n",
    "print('100 angles using np.sin() : ',numPySin)\n",
    "\n",
    "numPyCos = np.cos(100)\n",
    "print('100 angles using np.cos() : ', numPyCos)\n",
    "\n",
    "numPyTan = np.tan(100)\n",
    "print('100 angles using np.tan() : ', numPyTan)"
   ]
  },
  {
   "cell_type": "code",
   "execution_count": 1,
   "metadata": {},
   "outputs": [
    {
     "data": {
      "text/plain": [
       "[<matplotlib.lines.Line2D at 0x70964d9a8110>]"
      ]
     },
     "execution_count": 1,
     "metadata": {},
     "output_type": "execute_result"
    },
    {
     "data": {
      "image/png": "[encoded data removed]",
      "text/plain": [
       "<Figure size 640x480 with 1 Axes>"
      ]
     },
     "metadata": {},
     "output_type": "display_data"
    }
   ],
   "source": [
    "import numpy as np\n",
    "\n",
    "theta = np.linspace (0, 4 * np.pi, 100)\n",
    "import matplotlib.pyplot as plt\n",
    "plt.plot ( theta, np.sin(theta), color = 'r', linestyle = 'solid')\n",
    "plt.plot( theta, np.cos(theta), color = 'b', linestyle = 'dashed')"
   ]
  },
  {
   "cell_type": "code",
   "execution_count": null,
   "metadata": {},
   "outputs": [],
   "source": []
  }
 ],
 "metadata": {
  "kernelspec": {
   "display_name": "Python 3",
   "language": "python",
   "name": "python3"
  },
  "language_info": {
   "codemirror_mode": {
    "name": "ipython",
    "version": 3
   },
   "file_extension": ".py",
   "mimetype": "text/x-python",
   "name": "python",
   "nbconvert_exporter": "python",
   "pygments_lexer": "ipython3",
   "version": "3.12.1"
  }
 },
 "nbformat": 4,
 "nbformat_minor": 2
}
