{
 "cells": [
  {
   "cell_type": "code",
   "execution_count": 2,
   "metadata": {},
   "outputs": [
    {
     "name": "stdout",
     "output_type": "stream",
     "text": [
      "M+N =  [[  3  -1]\n",
      " [ 13 -14]]\n",
      "M*N = [[  2 -12]\n",
      " [ 40  48]]\n",
      "M@N = [[ 26 -26]\n",
      " [-59  28]]\n",
      "M.dot(N) = [[ 26 -26]\n",
      " [-59  28]]\n",
      "The transpose of M is:  [[ 2  5]\n",
      " [ 3 -8]]\n"
     ]
    }
   ],
   "source": [
    "import numpy as np\n",
    "\n",
    "M = np.array(\n",
    "    [\n",
    "        [2,3], \n",
    "        [5, -8]\n",
    "    ]\n",
    ")\n",
    "N = np.array(\n",
    "    [\n",
    "        [1, -4],\n",
    "        [8, -6]\n",
    "    ]\n",
    ")\n",
    "\n",
    "print('M+N = ', M+N)\n",
    "print('M*N =', M*N)\n",
    "print('M@N =', M@N)\n",
    "print('M.dot(N) =', M.dot(N))\n",
    "print('The transpose of M is: ', np.transpose(M))"
   ]
  },
  {
   "cell_type": "markdown",
   "metadata": {},
   "source": [
    "3.2 Numpy.linalg"
   ]
  },
  {
   "cell_type": "code",
   "execution_count": 4,
   "metadata": {},
   "outputs": [
    {
     "name": "stdout",
     "output_type": "stream",
     "text": [
      "[[ 0.25806452  0.09677419]\n",
      " [ 0.16129032 -0.06451613]]\n"
     ]
    }
   ],
   "source": [
    "import numpy as np\n",
    "import numpy.linalg as LA\n",
    "M = np.array(\n",
    "    [\n",
    "        [2, 3], \n",
    "        [5, -8]\n",
    "    ]\n",
    ")\n",
    "\n",
    "\n",
    "inverse_M = LA.inv(M)\n",
    "print(inverse_M)"
   ]
  },
  {
   "cell_type": "markdown",
   "metadata": {},
   "source": []
  }
 ],
 "metadata": {
  "kernelspec": {
   "display_name": "Python 3",
   "language": "python",
   "name": "python3"
  },
  "language_info": {
   "codemirror_mode": {
    "name": "ipython",
    "version": 3
   },
   "file_extension": ".py",
   "mimetype": "text/x-python",
   "name": "python",
   "nbconvert_exporter": "python",
   "pygments_lexer": "ipython3",
   "version": "3.12.1"
  }
 },
 "nbformat": 4,
 "nbformat_minor": 2
}
