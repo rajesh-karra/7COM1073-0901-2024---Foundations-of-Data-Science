{
 "cells": [
  {
   "cell_type": "code",
   "execution_count": null,
   "metadata": {},
   "outputs": [
    {
     "name": "stdout",
     "output_type": "stream",
     "text": [
      "{1, 2, 3, 4, 5, 6, 7, 8, 9}\n"
     ]
    }
   ],
   "source": [
    "from sympy import FiniteSet\n",
    "set1 = FiniteSet(1, 2, 3, 4, 5, 6, 7, 8, 9)\n",
    "print(set1)"
   ]
  },
  {
   "cell_type": "code",
   "execution_count": 7,
   "metadata": {},
   "outputs": [
    {
     "name": "stdout",
     "output_type": "stream",
     "text": [
      "{0.4, 10.6, 4}\n",
      "{}\n"
     ]
    }
   ],
   "source": [
    "s1 = {2/5, 4, 10.6}\n",
    "s2 = {}\n",
    "\n",
    "print(s1)\n",
    "print(s2)"
   ]
  },
  {
   "cell_type": "code",
   "execution_count": 14,
   "metadata": {},
   "outputs": [
    {
     "data": {
      "text/latex": [
       "$\\displaystyle \\left\\{\\frac{2}{5}, 4, 10.6\\right\\}$"
      ],
      "text/plain": [
       "{2/5, 4, 10.6}"
      ]
     },
     "execution_count": 14,
     "metadata": {},
     "output_type": "execute_result"
    }
   ],
   "source": [
    "from fractions import Fraction\n",
    "s1 = FiniteSet (Fraction (2, 5), 4, 10.6)\n",
    "s1"
   ]
  },
  {
   "cell_type": "code",
   "execution_count": 15,
   "metadata": {},
   "outputs": [
    {
     "data": {
      "text/latex": [
       "$\\displaystyle \\emptyset$"
      ],
      "text/plain": [
       "EmptySet"
      ]
     },
     "execution_count": 15,
     "metadata": {},
     "output_type": "execute_result"
    }
   ],
   "source": [
    "s2 = FiniteSet ()\n",
    "s2"
   ]
  },
  {
   "cell_type": "code",
   "execution_count": 16,
   "metadata": {},
   "outputs": [
    {
     "data": {
      "text/plain": [
       "0"
      ]
     },
     "execution_count": 16,
     "metadata": {},
     "output_type": "execute_result"
    }
   ],
   "source": [
    "len(s2)"
   ]
  },
  {
   "cell_type": "code",
   "execution_count": 11,
   "metadata": {},
   "outputs": [
    {
     "name": "stdout",
     "output_type": "stream",
     "text": [
      "3\n",
      "0\n"
     ]
    }
   ],
   "source": [
    "cardinality_of_s1 = len(s1)\n",
    "cardinality_of_s2 = len(s2)\n",
    "\n",
    "print(cardinality_of_s1)\n",
    "print(cardinality_of_s2)"
   ]
  },
  {
   "cell_type": "code",
   "execution_count": 12,
   "metadata": {},
   "outputs": [
    {
     "data": {
      "text/latex": [
       "$\\displaystyle \\left\\{0, 2, 4, 6\\right\\}$"
      ],
      "text/plain": [
       "{0, 2, 4, 6}"
      ]
     },
     "execution_count": 12,
     "metadata": {},
     "output_type": "execute_result"
    }
   ],
   "source": [
    "'''create sets from lists'''\n",
    "L = [0, 2, 4, 6]\n",
    "set2 = FiniteSet(*L)\n",
    "set2"
   ]
  },
  {
   "cell_type": "code",
   "execution_count": 13,
   "metadata": {},
   "outputs": [
    {
     "data": {
      "text/latex": [
       "$\\displaystyle \\left\\{0, 2, 4, 6\\right\\}$"
      ],
      "text/plain": [
       "{0, 2, 4, 6}"
      ]
     },
     "execution_count": 13,
     "metadata": {},
     "output_type": "execute_result"
    }
   ],
   "source": [
    "L = [0, 2, 4, 6, 2]\n",
    "set3 = FiniteSet(*L)\n",
    "set3"
   ]
  },
  {
   "cell_type": "code",
   "execution_count": 17,
   "metadata": {},
   "outputs": [
    {
     "data": {
      "text/plain": [
       "True"
      ]
     },
     "execution_count": 17,
     "metadata": {},
     "output_type": "execute_result"
    }
   ],
   "source": [
    "4 in set1"
   ]
  },
  {
   "cell_type": "code",
   "execution_count": 18,
   "metadata": {},
   "outputs": [
    {
     "data": {
      "text/plain": [
       "False"
      ]
     },
     "execution_count": 18,
     "metadata": {},
     "output_type": "execute_result"
    }
   ],
   "source": [
    "-1 in s1"
   ]
  },
  {
   "cell_type": "code",
   "execution_count": 19,
   "metadata": {},
   "outputs": [
    {
     "data": {
      "text/plain": [
       "True"
      ]
     },
     "execution_count": 19,
     "metadata": {},
     "output_type": "execute_result"
    }
   ],
   "source": [
    "4 in s1"
   ]
  },
  {
   "cell_type": "code",
   "execution_count": 20,
   "metadata": {},
   "outputs": [
    {
     "data": {
      "text/latex": [
       "$\\displaystyle \\left\\{\\frac{2}{5}, 4, 10.6\\right\\}$"
      ],
      "text/plain": [
       "{2/5, 4, 10.6}"
      ]
     },
     "execution_count": 20,
     "metadata": {},
     "output_type": "execute_result"
    }
   ],
   "source": [
    "s1"
   ]
  },
  {
   "cell_type": "code",
   "execution_count": 22,
   "metadata": {},
   "outputs": [
    {
     "data": {
      "text/plain": [
       "True"
      ]
     },
     "execution_count": 22,
     "metadata": {},
     "output_type": "execute_result"
    }
   ],
   "source": [
    "set4 = FiniteSet(2, 3, 7)\n",
    "set5 = FiniteSet(3, 2, 7)\n",
    "set4 == set5"
   ]
  },
  {
   "cell_type": "code",
   "execution_count": 23,
   "metadata": {},
   "outputs": [
    {
     "data": {
      "text/plain": [
       "True"
      ]
     },
     "execution_count": 23,
     "metadata": {},
     "output_type": "execute_result"
    }
   ],
   "source": [
    "s = FiniteSet(2)\n",
    "s.is_subset(set4)"
   ]
  },
  {
   "cell_type": "code",
   "execution_count": 24,
   "metadata": {},
   "outputs": [
    {
     "data": {
      "text/plain": [
       "True"
      ]
     },
     "execution_count": 24,
     "metadata": {},
     "output_type": "execute_result"
    }
   ],
   "source": [
    "s.is_proper_subset(set4)"
   ]
  },
  {
   "cell_type": "code",
   "execution_count": 26,
   "metadata": {},
   "outputs": [
    {
     "data": {
      "text/plain": [
       "False"
      ]
     },
     "execution_count": 26,
     "metadata": {},
     "output_type": "execute_result"
    }
   ],
   "source": [
    "s1.is_proper_subset(s2)"
   ]
  },
  {
   "cell_type": "code",
   "execution_count": 27,
   "metadata": {},
   "outputs": [
    {
     "data": {
      "text/plain": [
       "True"
      ]
     },
     "execution_count": 27,
     "metadata": {},
     "output_type": "execute_result"
    }
   ],
   "source": [
    "s2.is_proper_subset(s1)"
   ]
  },
  {
   "cell_type": "code",
   "execution_count": 29,
   "metadata": {},
   "outputs": [
    {
     "name": "stdout",
     "output_type": "stream",
     "text": [
      "{2/5, 4, 10.6}\n",
      "EmptySet\n"
     ]
    }
   ],
   "source": [
    "print(s1)\n",
    "print(s2)"
   ]
  },
  {
   "cell_type": "code",
   "execution_count": 30,
   "metadata": {},
   "outputs": [
    {
     "data": {
      "text/plain": [
       "3"
      ]
     },
     "execution_count": 30,
     "metadata": {},
     "output_type": "execute_result"
    }
   ],
   "source": [
    "len(s1)"
   ]
  },
  {
   "cell_type": "code",
   "execution_count": 31,
   "metadata": {},
   "outputs": [
    {
     "data": {
      "text/latex": [
       "$\\displaystyle \\left\\{\\emptyset, \\left\\{\\frac{2}{5}\\right\\}, \\left\\{4\\right\\}, \\left\\{10.6\\right\\}, \\left\\{\\frac{2}{5}, 4\\right\\}, \\left\\{\\frac{2}{5}, 10.6\\right\\}, \\left\\{4, 10.6\\right\\}, \\left\\{\\frac{2}{5}, 4, 10.6\\right\\}\\right\\}$"
      ],
      "text/plain": [
       "FiniteSet(EmptySet, {2/5}, {4}, {10.6}, {2/5, 4}, {2/5, 10.6}, {4, 10.6}, {2/5, 4, 10.6})"
      ]
     },
     "execution_count": 31,
     "metadata": {},
     "output_type": "execute_result"
    }
   ],
   "source": [
    "s1.powerset()"
   ]
  },
  {
   "cell_type": "code",
   "execution_count": 32,
   "metadata": {},
   "outputs": [
    {
     "data": {
      "text/latex": [
       "$\\displaystyle \\left\\{\\emptyset\\right\\}$"
      ],
      "text/plain": [
       "{EmptySet}"
      ]
     },
     "execution_count": 32,
     "metadata": {},
     "output_type": "execute_result"
    }
   ],
   "source": [
    "s2.powerset()"
   ]
  },
  {
   "cell_type": "markdown",
   "metadata": {},
   "source": [
    "# Set Operations"
   ]
  },
  {
   "cell_type": "code",
   "execution_count": 33,
   "metadata": {},
   "outputs": [
    {
     "data": {
      "text/plain": [
       "{0, 2, 3, 4, 6, 7}"
      ]
     },
     "execution_count": 33,
     "metadata": {},
     "output_type": "execute_result"
    }
   ],
   "source": [
    "set2 = {0, 2, 4, 6}\n",
    "set4 = {2, 3, 7}\n",
    "set2.union(set4)"
   ]
  },
  {
   "cell_type": "code",
   "execution_count": 36,
   "metadata": {},
   "outputs": [
    {
     "data": {
      "text/latex": [
       "$\\displaystyle \\left\\{0, 2, 3, 4, 6, 7\\right\\}$"
      ],
      "text/plain": [
       "{0, 2, 3, 4, 6, 7}"
      ]
     },
     "execution_count": 36,
     "metadata": {},
     "output_type": "execute_result"
    }
   ],
   "source": [
    "set2 = FiniteSet(0, 2, 4, 6)\n",
    "set4 = FiniteSet(2, 3, 7)\n",
    "set2.union(set4)"
   ]
  },
  {
   "cell_type": "code",
   "execution_count": 37,
   "metadata": {},
   "outputs": [
    {
     "data": {
      "text/latex": [
       "$\\displaystyle \\left\\{2\\right\\}$"
      ],
      "text/plain": [
       "{2}"
      ]
     },
     "execution_count": 37,
     "metadata": {},
     "output_type": "execute_result"
    }
   ],
   "source": [
    "from sympy import *\n",
    "set2.intersect(set4)"
   ]
  },
  {
   "cell_type": "code",
   "execution_count": 38,
   "metadata": {},
   "outputs": [
    {
     "data": {
      "text/latex": [
       "$\\displaystyle \\left\\{2, 4, 6\\right\\}$"
      ],
      "text/plain": [
       "{2, 4, 6}"
      ]
     },
     "execution_count": 38,
     "metadata": {},
     "output_type": "execute_result"
    }
   ],
   "source": [
    "set2.intersect(set1)"
   ]
  },
  {
   "cell_type": "code",
   "execution_count": 40,
   "metadata": {},
   "outputs": [
    {
     "data": {
      "text/latex": [
       "$\\displaystyle \\left\\{0, 2, 4, 6\\right\\}$"
      ],
      "text/plain": [
       "{0, 2, 4, 6}"
      ]
     },
     "execution_count": 40,
     "metadata": {},
     "output_type": "execute_result"
    }
   ],
   "source": [
    "set3.intersect(set2)"
   ]
  },
  {
   "cell_type": "code",
   "execution_count": 41,
   "metadata": {},
   "outputs": [
    {
     "data": {
      "text/latex": [
       "$\\displaystyle \\left\\{0, 1, 2, 3, 4, 5, 6, 7, 8, 9\\right\\}$"
      ],
      "text/plain": [
       "{0, 1, 2, 3, 4, 5, 6, 7, 8, 9}"
      ]
     },
     "execution_count": 41,
     "metadata": {},
     "output_type": "execute_result"
    }
   ],
   "source": [
    "set2.union(set1)"
   ]
  },
  {
   "cell_type": "code",
   "execution_count": 42,
   "metadata": {},
   "outputs": [
    {
     "data": {
      "text/latex": [
       "$\\displaystyle \\left\\{2\\right\\}$"
      ],
      "text/plain": [
       "{2}"
      ]
     },
     "execution_count": 42,
     "metadata": {},
     "output_type": "execute_result"
    }
   ],
   "source": [
    "set2.intersect(set4).intersect(set1)"
   ]
  },
  {
   "cell_type": "markdown",
   "metadata": {},
   "source": [
    "# Cartesian Product"
   ]
  },
  {
   "cell_type": "code",
   "execution_count": 46,
   "metadata": {},
   "outputs": [
    {
     "data": {
      "text/latex": [
       "$\\displaystyle \\left\\{2, 3, 7\\right\\} \\times \\left\\{1, 3, 5\\right\\}$"
      ],
      "text/plain": [
       "ProductSet({2, 3, 7}, {1, 3, 5})"
      ]
     },
     "execution_count": 46,
     "metadata": {},
     "output_type": "execute_result"
    }
   ],
   "source": [
    "'''Cartesian Product'''\n",
    "set4 = FiniteSet(2, 3, 7)\n",
    "set6 = FiniteSet(1, 3, 5)\n",
    "\n",
    "M = set4*set6\n",
    "M"
   ]
  },
  {
   "cell_type": "code",
   "execution_count": 47,
   "metadata": {},
   "outputs": [
    {
     "name": "stdout",
     "output_type": "stream",
     "text": [
      "(2, 1)\n",
      "(3, 1)\n",
      "(2, 3)\n",
      "(7, 1)\n",
      "(3, 3)\n",
      "(2, 5)\n",
      "(7, 3)\n",
      "(3, 5)\n",
      "(7, 5)\n"
     ]
    }
   ],
   "source": [
    "for elem in M:\n",
    "    print(elem)"
   ]
  },
  {
   "cell_type": "markdown",
   "metadata": {},
   "source": [
    "# Task 6"
   ]
  },
  {
   "cell_type": "code",
   "execution_count": 56,
   "metadata": {},
   "outputs": [
    {
     "name": "stdout",
     "output_type": "stream",
     "text": [
      "a union b is :  {1, 2, 3, 10, 21, 99}\n",
      "a intersect b is :  {1, 10}\n",
      "Cartesian product of a & b is :  ProductSet({1, 2, 10, 99}, {1, 3, 10, 21})\n"
     ]
    }
   ],
   "source": [
    "a = FiniteSet(1, 2, 10, 99)\n",
    "b = FiniteSet(3, 10, 21, 1)\n",
    "\n",
    "print('a union b is : ', a.union(b))\n",
    "print('a intersect b is : ', a.intersect(b))\n",
    "print('Cartesian product of a & b is : ', a*b)"
   ]
  },
  {
   "cell_type": "markdown",
   "metadata": {},
   "source": [
    "# Numpy Functions"
   ]
  },
  {
   "cell_type": "code",
   "execution_count": 58,
   "metadata": {},
   "outputs": [
    {
     "data": {
      "text/plain": [
       "array([ 0.        ,  0.12693304,  0.25386607,  0.38079911,  0.50773215,\n",
       "        0.63466518,  0.76159822,  0.88853126,  1.01546429,  1.14239733,\n",
       "        1.26933037,  1.3962634 ,  1.52319644,  1.65012947,  1.77706251,\n",
       "        1.90399555,  2.03092858,  2.15786162,  2.28479466,  2.41172769,\n",
       "        2.53866073,  2.66559377,  2.7925268 ,  2.91945984,  3.04639288,\n",
       "        3.17332591,  3.30025895,  3.42719199,  3.55412502,  3.68105806,\n",
       "        3.8079911 ,  3.93492413,  4.06185717,  4.1887902 ,  4.31572324,\n",
       "        4.44265628,  4.56958931,  4.69652235,  4.82345539,  4.95038842,\n",
       "        5.07732146,  5.2042545 ,  5.33118753,  5.45812057,  5.58505361,\n",
       "        5.71198664,  5.83891968,  5.96585272,  6.09278575,  6.21971879,\n",
       "        6.34665183,  6.47358486,  6.6005179 ,  6.72745093,  6.85438397,\n",
       "        6.98131701,  7.10825004,  7.23518308,  7.36211612,  7.48904915,\n",
       "        7.61598219,  7.74291523,  7.86984826,  7.9967813 ,  8.12371434,\n",
       "        8.25064737,  8.37758041,  8.50451345,  8.63144648,  8.75837952,\n",
       "        8.88531256,  9.01224559,  9.13917863,  9.26611167,  9.3930447 ,\n",
       "        9.51997774,  9.64691077,  9.77384381,  9.90077685, 10.02770988,\n",
       "       10.15464292, 10.28157596, 10.40850899, 10.53544203, 10.66237507,\n",
       "       10.7893081 , 10.91624114, 11.04317418, 11.17010721, 11.29704025,\n",
       "       11.42397329, 11.55090632, 11.67783936, 11.8047724 , 11.93170543,\n",
       "       12.05863847, 12.1855715 , 12.31250454, 12.43943758, 12.56637061])"
      ]
     },
     "execution_count": 58,
     "metadata": {},
     "output_type": "execute_result"
    }
   ],
   "source": [
    "import numpy as np\n",
    "theta = np.linspace(0, 4*np.pi, 100)\n",
    "theta"
   ]
  },
  {
   "cell_type": "code",
   "execution_count": 65,
   "metadata": {},
   "outputs": [
    {
     "name": "stdout",
     "output_type": "stream",
     "text": [
      "100 angles using np.sin() :  -0.5063656411097588\n",
      "100 angles using np.cos() :  0.8623188722876839\n",
      "100 angles using np.tan() :  -0.5872139151569291\n"
     ]
    }
   ],
   "source": [
    "numPySin = np.sin(100)\n",
    "print('100 angles using np.sin() : ',numPySin)\n",
    "\n",
    "numPyCos = np.cos(100)\n",
    "print('100 angles using np.cos() : ', numPyCos)\n",
    "\n",
    "numPyTan = np.tan(100)\n",
    "print('100 angles using np.tan() : ', numPyTan)"
   ]
  },
  {
   "cell_type": "code",
   "execution_count": 1,
   "metadata": {},
   "outputs": [
    {
     "data": {
      "text/plain": [
       "[<matplotlib.lines.Line2D at 0x70964d9a8110>]"
      ]
     },
     "execution_count": 1,
     "metadata": {},
     "output_type": "execute_result"
    },
    {
     "data": {
      "image/png": "[encoded data removed]",
      "text/plain": [
       "<Figure size 640x480 with 1 Axes>"
      ]
     },
     "metadata": {},
     "output_type": "display_data"
    }
   ],
   "source": [
    "import numpy as np\n",
    "\n",
    "theta = np.linspace (0, 4 * np.pi, 100)\n",
    "import matplotlib.pyplot as plt\n",
    "plt.plot ( theta, np.sin(theta), color = 'r', linestyle = 'solid')\n",
    "plt.plot( theta, np.cos(theta), color = 'b', linestyle = 'dashed')"
   ]
  },
  {
   "cell_type": "code",
   "execution_count": 3,
   "metadata": {},
   "outputs": [
    {
     "data": {
      "text/plain": [
       "array([1.00000000e+00, 1.13534099e+00, 1.28899916e+00, 1.46345358e+00,\n",
       "       1.66151884e+00, 1.88639044e+00, 2.14169639e+00, 2.43155569e+00,\n",
       "       2.76064485e+00, 3.13427325e+00, 3.55846889e+00, 4.04007559e+00,\n",
       "       4.58686341e+00, 5.20765404e+00, 5.91246309e+00, 6.71266169e+00,\n",
       "       7.62115996e+00, 8.65261529e+00, 9.82366880e+00, 1.11532138e+01,\n",
       "       1.26627008e+01, 1.43764833e+01, 1.63222108e+01, 1.85312749e+01,\n",
       "       2.10393160e+01, 2.38867978e+01, 2.71196606e+01, 3.07900623e+01,\n",
       "       3.49572198e+01, 3.96883645e+01, 4.50598270e+01, 5.11582685e+01,\n",
       "       5.80820792e+01, 6.59429652e+01, 7.48677513e+01, 8.50004268e+01,\n",
       "       9.65044686e+01, 1.09565479e+02, 1.24394179e+02, 1.41229810e+02,\n",
       "       1.60343992e+02, 1.82045107e+02, 2.06683272e+02, 2.34655990e+02,\n",
       "       2.66414564e+02, 3.02471374e+02, 3.43408149e+02, 3.89885348e+02,\n",
       "       4.42652816e+02, 5.02561886e+02, 5.70579109e+02, 6.47801850e+02,\n",
       "       7.35475993e+02, 8.35016041e+02, 9.48027937e+02, 1.07633498e+03,\n",
       "       1.22200722e+03, 1.38739488e+03, 1.57516628e+03, 1.78835084e+03,\n",
       "       2.03038801e+03, 2.30518273e+03, 2.61716844e+03, 2.97137860e+03,\n",
       "       3.37352792e+03, 3.83010453e+03, 4.34847466e+03, 4.93700152e+03,\n",
       "       5.60518019e+03, 6.36379082e+03, 7.22507256e+03, 8.20292102e+03,\n",
       "       9.31311247e+03, 1.05735583e+04, 1.20045942e+04, 1.36293078e+04,\n",
       "       1.54739118e+04, 1.75681663e+04, 1.99458593e+04, 2.26453516e+04,\n",
       "       2.57101959e+04, 2.91898393e+04, 3.31404210e+04, 3.76256783e+04,\n",
       "       4.27179748e+04, 4.84994678e+04, 5.50634337e+04, 6.25157733e+04,\n",
       "       7.09767198e+04, 8.05827793e+04, 9.14889323e+04, 1.03871135e+05,\n",
       "       1.17929157e+05, 1.33889806e+05, 1.52010584e+05, 1.72583847e+05,\n",
       "       1.95941516e+05, 2.22460434e+05, 2.52568449e+05, 2.86751313e+05])"
      ]
     },
     "execution_count": 3,
     "metadata": {},
     "output_type": "execute_result"
    }
   ],
   "source": [
    "np.exp(theta)"
   ]
  },
  {
   "cell_type": "code",
   "execution_count": 4,
   "metadata": {},
   "outputs": [
    {
     "data": {
      "text/plain": [
       "array([1.00000000e+00, 1.09196986e+00, 1.19239818e+00, 1.30206287e+00,\n",
       "       1.42181341e+00, 1.55257739e+00, 1.69536771e+00, 1.85129045e+00,\n",
       "       2.02155337e+00, 2.20747535e+00, 2.41049655e+00, 2.63218958e+00,\n",
       "       2.87427169e+00, 3.13861805e+00, 3.42727632e+00, 3.74248244e+00,\n",
       "       4.08667803e+00, 4.46252924e+00, 4.87294743e+00, 5.32111172e+00,\n",
       "       5.81049362e+00, 6.34488390e+00, 6.92842199e+00, 7.56562799e+00,\n",
       "       8.26143774e+00, 9.02124101e+00, 9.85092329e+00, 1.07569113e+01,\n",
       "       1.17462230e+01, 1.28265214e+01, 1.40061748e+01, 1.52943208e+01,\n",
       "       1.67009373e+01, 1.82369202e+01, 1.99141672e+01, 2.17456703e+01,\n",
       "       2.37456166e+01, 2.59294976e+01, 2.83142299e+01, 3.09182857e+01,\n",
       "       3.37618361e+01, 3.68669074e+01, 4.02575518e+01, 4.39600332e+01,\n",
       "       4.80030313e+01, 5.24178634e+01, 5.72387269e+01, 6.25029646e+01,\n",
       "       6.82513535e+01, 7.45284210e+01, 8.13827894e+01, 8.88675532e+01,\n",
       "       9.70406897e+01, 1.05965508e+02, 1.15711141e+02, 1.26353079e+02,\n",
       "       1.37973754e+02, 1.50663181e+02, 1.64519652e+02, 1.79650502e+02,\n",
       "       1.96172933e+02, 2.14214930e+02, 2.33916248e+02, 2.55429492e+02,\n",
       "       2.78921307e+02, 3.04573661e+02, 3.32585258e+02, 3.63173077e+02,\n",
       "       3.96574054e+02, 4.33046915e+02, 4.72874179e+02, 5.16364351e+02,\n",
       "       5.63854308e+02, 6.15711910e+02, 6.72338848e+02, 7.34173758e+02,\n",
       "       8.01695616e+02, 8.75427450e+02, 9.55940390e+02, 1.04385809e+03,\n",
       "       1.13986158e+03, 1.24469449e+03, 1.35916886e+03, 1.48417143e+03,\n",
       "       1.62067047e+03, 1.76972331e+03, 1.93248452e+03, 2.11021485e+03,\n",
       "       2.30429101e+03, 2.51621633e+03, 2.74763240e+03, 3.00033177e+03,\n",
       "       3.27627186e+03, 3.57759012e+03, 3.90662059e+03, 4.26591194e+03,\n",
       "       4.65824726e+03, 5.08666561e+03, 5.55448554e+03, 6.06533079e+03])"
      ]
     },
     "execution_count": 4,
     "metadata": {},
     "output_type": "execute_result"
    }
   ],
   "source": [
    "np.exp2(theta)"
   ]
  },
  {
   "cell_type": "code",
   "execution_count": 5,
   "metadata": {},
   "outputs": [
    {
     "data": {
      "text/plain": [
       "array([1.00000000e+00, 1.14964154e+00, 1.32167568e+00, 1.51945327e+00,\n",
       "       1.74682661e+00, 2.00822444e+00, 2.30873825e+00, 2.65422141e+00,\n",
       "       3.05140320e+00, 3.50801989e+00, 4.03296540e+00, 4.63646458e+00,\n",
       "       5.33027230e+00, 6.12790248e+00, 7.04489128e+00, 8.09909969e+00,\n",
       "       9.31106148e+00, 1.07043831e+01, 1.23062035e+01, 1.41477228e+01,\n",
       "       1.62648099e+01, 1.86987012e+01, 2.14968038e+01, 2.47136187e+01,\n",
       "       2.84118028e+01, 3.26633889e+01, 3.75511888e+01, 4.31704067e+01,\n",
       "       4.96304931e+01, 5.70572768e+01, 6.55954158e+01, 7.54112152e+01,\n",
       "       8.66958659e+01, 9.96691692e+01, 1.14583818e+02, 1.31730317e+02,\n",
       "       1.51442645e+02, 1.74104757e+02, 2.00158062e+02, 2.30110023e+02,\n",
       "       2.64544043e+02, 3.04130822e+02, 3.49641428e+02, 4.01962311e+02,\n",
       "       4.62112573e+02, 5.31263812e+02, 6.10762949e+02, 7.02158461e+02,\n",
       "       8.07230538e+02, 9.28025762e+02, 1.06689697e+03, 1.22654908e+03,\n",
       "       1.41009178e+03, 1.62110009e+03, 1.86368402e+03, 2.14256857e+03,\n",
       "       2.46318584e+03, 2.83178078e+03, 3.25553283e+03, 3.74269579e+03,\n",
       "       4.30275857e+03, 4.94663001e+03, 5.68685137e+03, 6.53784060e+03,\n",
       "       7.51617316e+03, 8.64090493e+03, 9.93394329e+03, 1.14204739e+04,\n",
       "       1.31294513e+04, 1.50941626e+04, 1.73528765e+04, 1.99495877e+04,\n",
       "       2.29348748e+04, 2.63668849e+04, 3.03124663e+04, 3.48484706e+04,\n",
       "       4.00632496e+04, 4.60583762e+04, 5.29506228e+04, 6.08742358e+04,\n",
       "       6.99835504e+04, 8.04559970e+04, 9.24955567e+04, 1.06336735e+05,\n",
       "       1.22249128e+05, 1.40542676e+05, 1.61573700e+05, 1.85751838e+05,\n",
       "       2.13548030e+05, 2.45503687e+05, 2.82241238e+05, 3.24476253e+05,\n",
       "       3.73031380e+05, 4.28852372e+05, 4.93026504e+05, 5.66803752e+05,\n",
       "       6.51621141e+05, 7.49130735e+05, 8.61231816e+05, 9.90107875e+05])"
      ]
     },
     "execution_count": 5,
     "metadata": {},
     "output_type": "execute_result"
    }
   ],
   "source": [
    "np.power(3, theta)"
   ]
  },
  {
   "cell_type": "markdown",
   "metadata": {},
   "source": [
    "# Lambda Functions"
   ]
  },
  {
   "cell_type": "code",
   "execution_count": 7,
   "metadata": {},
   "outputs": [
    {
     "data": {
      "image/png": "[encoded data removed]",
      "text/plain": [
       "<Figure size 640x480 with 1 Axes>"
      ]
     },
     "metadata": {},
     "output_type": "display_data"
    }
   ],
   "source": [
    "import matplotlib.pyplot as plt\n",
    "import numpy as np\n",
    "\n",
    "#define the function\n",
    "f = lambda x, a : -a * x ** 2\n",
    "\n",
    "#set values\n",
    "\n",
    "a = 2 \n",
    "x = np.linspace(-10, 10)\n",
    "\n",
    "#Calculate the values of the function at the given points\n",
    "y = f(x, a)\n",
    "\n",
    "#plot the resulting arrays\n",
    "fig100 = plt.figure()\n",
    "ax = plt.gca()\n",
    "\n",
    "ax.set_title(\"plot y = f(x,a)\")\n",
    "ax.plot(x, y) #plot f\n",
    "\n",
    "plt.show()"
   ]
  },
  {
   "cell_type": "code",
   "execution_count": null,
   "metadata": {},
   "outputs": [],
   "source": []
  }
 ],
 "metadata": {
  "kernelspec": {
   "display_name": "Python 3",
   "language": "python",
   "name": "python3"
  },
  "language_info": {
   "codemirror_mode": {
    "name": "ipython",
    "version": 3
   },
   "file_extension": ".py",
   "mimetype": "text/x-python",
   "name": "python",
   "nbconvert_exporter": "python",
   "pygments_lexer": "ipython3",
   "version": "3.12.1"
  }
 },
 "nbformat": 4,
 "nbformat_minor": 2
}
